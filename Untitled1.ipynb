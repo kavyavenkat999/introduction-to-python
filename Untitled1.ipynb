{
  "nbformat": 4,
  "nbformat_minor": 0,
  "metadata": {
    "colab": {
      "provenance": [],
      "collapsed_sections": []
    },
    "kernelspec": {
      "name": "python3",
      "display_name": "Python 3"
    },
    "language_info": {
      "name": "python"
    }
  },
  "cells": [
    {
      "cell_type": "code",
      "execution_count": 4,
      "metadata": {
        "colab": {
          "base_uri": "https://localhost:8080/"
        },
        "id": "3WyrZugoedBu",
        "outputId": "6d3742ea-a5dc-4a4a-ea00-83ff8095698a"
      },
      "outputs": [
        {
          "output_type": "stream",
          "name": "stdout",
          "text": [
            "enter you namekavya\n",
            "enter your number1234567890\n",
            "kavya\n",
            "1234567890\n"
          ]
        }
      ],
      "source": [
        "name=input(\"enter you name\")\n",
        "number=int(input(\"enter your number\"))\n",
        "print(name)\n",
        "print(number)"
      ]
    },
    {
      "cell_type": "code",
      "source": [
        "m1=int(input(\"enter m1\"))\n",
        "m2=int(input(\"enter m2\"))\n",
        "m3=int(input(\"enter m3\"))\n",
        "print(\"marks=\",m1+m2+m3)\n",
        "print(\"average=\",(m1+m2+m3)/3)"
      ],
      "metadata": {
        "colab": {
          "base_uri": "https://localhost:8080/"
        },
        "id": "kFu7bY9HhTW5",
        "outputId": "807eed5f-4e9f-4b67-b939-bd315d6c2362"
      },
      "execution_count": 11,
      "outputs": [
        {
          "output_type": "stream",
          "name": "stdout",
          "text": [
            "enter m110\n",
            "enter m20\n",
            "enter m330\n",
            "marks= 40\n",
            "average= 13.333333333333334\n"
          ]
        }
      ]
    },
    {
      "cell_type": "code",
      "source": [
        "m1=int(input(\"enter m1\"))\n",
        "m2=int(input(\"enter m2\"))\n",
        "m3=int(input(\"enter m3\"))\n",
        "if m1>m2 and m1>m3:\n",
        "  print(m1,\"is the greatest\")\n",
        "if m2>m1 and m2>m3:\n",
        "  print(m2,\"is the greatest\")\n",
        "else:\n",
        "  print(m3,\"is the  greatest\")   \n",
        "   \n",
        " \n"
      ],
      "metadata": {
        "colab": {
          "base_uri": "https://localhost:8080/"
        },
        "id": "iNX8ficljjYX",
        "outputId": "7f064e04-5092-42a8-f84a-1ac460447c84"
      },
      "execution_count": 16,
      "outputs": [
        {
          "output_type": "stream",
          "name": "stdout",
          "text": [
            "enter m110\n",
            "enter m213\n",
            "enter m35\n",
            "13 is the greatest\n"
          ]
        }
      ]
    },
    {
      "cell_type": "code",
      "source": [
        "num=int(input(\"enter a number\"))\n",
        "if num%2==0:\n",
        "  print(\"even\")\n",
        "else:\n",
        "  print(\"odd\")"
      ],
      "metadata": {
        "colab": {
          "base_uri": "https://localhost:8080/"
        },
        "id": "KSf10QQZulsU",
        "outputId": "b9813baf-d55c-49e6-df35-cc35c419b290"
      },
      "execution_count": 17,
      "outputs": [
        {
          "output_type": "stream",
          "name": "stdout",
          "text": [
            "enter a number1\n",
            "odd\n"
          ]
        }
      ]
    },
    {
      "cell_type": "code",
      "source": [
        "for i in range(1,11):\n",
        "  print(i)"
      ],
      "metadata": {
        "colab": {
          "base_uri": "https://localhost:8080/"
        },
        "id": "2IrUJCHxmf-X",
        "outputId": "5ba7acaa-34b9-4d5f-ceeb-e28c0ef0364c"
      },
      "execution_count": 18,
      "outputs": [
        {
          "output_type": "stream",
          "name": "stdout",
          "text": [
            "1\n",
            "2\n",
            "3\n",
            "4\n",
            "5\n",
            "6\n",
            "7\n",
            "8\n",
            "9\n",
            "10\n"
          ]
        }
      ]
    },
    {
      "cell_type": "code",
      "source": [
        "for i in range(1,11):\n",
        "  if i%2==0:\n",
        "    print(i)"
      ],
      "metadata": {
        "colab": {
          "base_uri": "https://localhost:8080/"
        },
        "id": "U45gGFWVzW4K",
        "outputId": "621eebfc-0c48-4156-b55d-621ce2050cb6"
      },
      "execution_count": 20,
      "outputs": [
        {
          "output_type": "stream",
          "name": "stdout",
          "text": [
            "2\n",
            "4\n",
            "6\n",
            "8\n",
            "10\n"
          ]
        }
      ]
    },
    {
      "cell_type": "code",
      "source": [
        "for i in range(1,11):\n",
        "  print(i*5)"
      ],
      "metadata": {
        "colab": {
          "base_uri": "https://localhost:8080/"
        },
        "id": "fAO3e17y0gcb",
        "outputId": "22ce38da-dbd4-4ca2-86ad-0ebf166552d1"
      },
      "execution_count": 21,
      "outputs": [
        {
          "output_type": "stream",
          "name": "stdout",
          "text": [
            "5\n",
            "10\n",
            "15\n",
            "20\n",
            "25\n",
            "30\n",
            "35\n",
            "40\n",
            "45\n",
            "50\n"
          ]
        }
      ]
    }
  ]
}