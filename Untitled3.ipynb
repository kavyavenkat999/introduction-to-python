{
  "nbformat": 4,
  "nbformat_minor": 0,
  "metadata": {
    "colab": {
      "provenance": []
    },
    "kernelspec": {
      "name": "python3",
      "display_name": "Python 3"
    },
    "language_info": {
      "name": "python"
    }
  },
  "cells": [
    {
      "cell_type": "code",
      "execution_count": 2,
      "metadata": {
        "colab": {
          "base_uri": "https://localhost:8080/"
        },
        "id": "uUlBoDI0hOZp",
        "outputId": "a19be815-1580-47a5-98ed-a82da5eca76a"
      },
      "outputs": [
        {
          "output_type": "stream",
          "name": "stdout",
          "text": [
            "enter a number-5\n",
            "absolute value of -5 is 5\n"
          ]
        }
      ],
      "source": [
        "x=int(input(\"enter a number\"))\n",
        "if x>0:\n",
        "  print(\"absolute value of\", x, \"is\", x)\n",
        "else:\n",
        "  print(\"absolute value of\",x,\"is\",x*-1)"
      ]
    },
    {
      "cell_type": "code",
      "source": [
        "marks=int(input(\"enter marks\"))\n",
        "if marks<25:\n",
        "  print(\"grade f\")\n",
        "elif marks>25 and marks<45:\n",
        "  print(\"grade e\")\n",
        "elif marks>45 and marks<50:\n",
        "  print(\"grade d\")\n",
        "elif marks >50 and marks<60:\n",
        "  print(\"grade c\")\n",
        "elif marks >60 and marks<80:\n",
        "  print(\"grade b\")\n",
        "else:\n",
        "  print(\"grade a\")"
      ],
      "metadata": {
        "colab": {
          "base_uri": "https://localhost:8080/"
        },
        "id": "UvT9YBejmLkq",
        "outputId": "05f1f097-ff8b-45d4-acc7-9f8cee0d6de2"
      },
      "execution_count": 3,
      "outputs": [
        {
          "output_type": "stream",
          "name": "stdout",
          "text": [
            "enter marks40\n",
            "grade e\n"
          ]
        }
      ]
    },
    {
      "cell_type": "code",
      "source": [
        "a=int(input(\"enter number of classes held\"))\n",
        "b=int(input(\"enter number of classes attended\"))\n",
        "p=b/a*100\n",
        "print(p)\n",
        "if p>75:\n",
        "  print(\"can attend the exam\")\n",
        "else:\n",
        "  print(\"is not allowed to attend the exam\")\n"
      ],
      "metadata": {
        "colab": {
          "base_uri": "https://localhost:8080/"
        },
        "id": "zUzVlCPloKo6",
        "outputId": "8afbf947-3bfc-4693-ce82-d1be10c0e5bc"
      },
      "execution_count": 5,
      "outputs": [
        {
          "output_type": "stream",
          "name": "stdout",
          "text": [
            "enter number of classes held50\n",
            "enter number of classes attended25\n",
            "50.0\n",
            "is not allowed to attend the exam\n"
          ]
        }
      ]
    },
    {
      "cell_type": "code",
      "source": [
        "print(' 1.Addition \\n 2.Subtraction \\n 3.Multiplication \\n 4.Division \\n 5.Modulus \\n 6.Floor division \\n 7.Exponent')\n",
        "n=int(input(\"enter the operation to be performed\"))\n",
        "x=int(input(\"enter the first no\"))\n",
        "y=int(input(\"enter the second no\"))\n",
        "if n==1:\n",
        "  print(\"addition :\",x+y)\n",
        "elif n==2:\n",
        "  print(\"subtraction :\",x-y)\n",
        "elif n==3:\n",
        "  print(\"multiplication :\",x*y)\n",
        "elif n==4:\n",
        "  print(\"division :\",x/y)\n",
        "elif n==5:\n",
        "  print(\"modulus :\",x%y)\n",
        "elif n==6:\n",
        "  print(\"floor division : \",x//y)\n",
        "elif n==7:\n",
        "  print(\"exponent :\",x**y)"
      ],
      "metadata": {
        "colab": {
          "base_uri": "https://localhost:8080/"
        },
        "id": "Ie5wVq5lpQwZ",
        "outputId": "17f9dcee-6fa9-45f6-ba5d-71c2d71ac081"
      },
      "execution_count": 6,
      "outputs": [
        {
          "output_type": "stream",
          "name": "stdout",
          "text": [
            " 1.Addition \n",
            " 2.Subtraction \n",
            " 3.Multiplication \n",
            " 4.Division \n",
            " 5.Modulus \n",
            " 6.Floor division \n",
            " 7.Exponent\n",
            "enter the operation to be performed1\n",
            "enter the first no5\n",
            "enter the second no5\n",
            "addition : 10\n"
          ]
        }
      ]
    },
    {
      "cell_type": "code",
      "source": [
        "import statistics as s\n",
        "m1=float(input(\"enter the mark1 :\"))\n",
        "m2=int(input(\"enter the mark2:\"))\n",
        "m3=int(input(\"enter the mark3   :\"))\n",
        "m4=int(input(\"enter the mark4 :\"))\n",
        "m5=int(input(\"enter the mark5 :\"))\n",
        "m=m1,m2,m3,m4,m5\n",
        "print(\"least mark :\",min(m1,m2,m3,m4,m5))\n",
        "print(\"maximum mark :\",max(m1,m2,m3,m4,m5))\n",
        "print(\"average mark :\",s.mean([m1,m2,m3,m4,m5]))\n",
        "print(\"round off marks :\",round(s.mean([m1,m2,m3,m4,m5]),2))"
      ],
      "metadata": {
        "colab": {
          "base_uri": "https://localhost:8080/"
        },
        "id": "1KDJw2liueFh",
        "outputId": "867571cf-e801-4cbb-c5f1-07ef0e944668"
      },
      "execution_count": 7,
      "outputs": [
        {
          "output_type": "stream",
          "name": "stdout",
          "text": [
            "enter the mark1 :5\n",
            "enter the mark2:10\n",
            "enter the mark3   :4\n",
            "enter the mark4 :80\n",
            "enter the mark5 :75\n",
            "least mark : 4\n",
            "maximum mark : 80\n",
            "average mark : 34.8\n",
            "round off marks : 34.8\n"
          ]
        }
      ]
    }
  ]
}