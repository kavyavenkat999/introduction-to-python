{
  "nbformat": 4,
  "nbformat_minor": 0,
  "metadata": {
    "colab": {
      "provenance": []
    },
    "kernelspec": {
      "name": "python3",
      "display_name": "Python 3"
    },
    "language_info": {
      "name": "python"
    }
  },
  "cells": [
    {
      "cell_type": "code",
      "execution_count": 1,
      "metadata": {
        "id": "rGBS3ojEXyBj"
      },
      "outputs": [],
      "source": [
        "x=[1,2,3,4,5]"
      ]
    },
    {
      "cell_type": "code",
      "source": [
        "print(x)"
      ],
      "metadata": {
        "colab": {
          "base_uri": "https://localhost:8080/"
        },
        "id": "Z28sL4_JYyVa",
        "outputId": "bfefdb48-1937-41b1-a816-cd115cbdacf1"
      },
      "execution_count": 2,
      "outputs": [
        {
          "output_type": "stream",
          "name": "stdout",
          "text": [
            "[1, 2, 3, 4, 5]\n"
          ]
        }
      ]
    },
    {
      "cell_type": "code",
      "source": [
        "type(x)\n"
      ],
      "metadata": {
        "colab": {
          "base_uri": "https://localhost:8080/"
        },
        "id": "ugQuZvzMY1u_",
        "outputId": "af7950e2-77cc-4346-ec7b-b34e0055bce2"
      },
      "execution_count": 3,
      "outputs": [
        {
          "output_type": "execute_result",
          "data": {
            "text/plain": [
              "list"
            ]
          },
          "metadata": {},
          "execution_count": 3
        }
      ]
    },
    {
      "cell_type": "code",
      "source": [
        "x[0]"
      ],
      "metadata": {
        "colab": {
          "base_uri": "https://localhost:8080/"
        },
        "id": "CTzUGsO1Y6jv",
        "outputId": "d12d2d77-b9df-4830-8b5b-41d39db673aa"
      },
      "execution_count": 4,
      "outputs": [
        {
          "output_type": "execute_result",
          "data": {
            "text/plain": [
              "1"
            ]
          },
          "metadata": {},
          "execution_count": 4
        }
      ]
    },
    {
      "cell_type": "code",
      "source": [
        "x[1]"
      ],
      "metadata": {
        "colab": {
          "base_uri": "https://localhost:8080/"
        },
        "id": "HIivJNA5Z73x",
        "outputId": "74eac72e-3c76-41e5-a24d-dbb17c3358bf"
      },
      "execution_count": 5,
      "outputs": [
        {
          "output_type": "execute_result",
          "data": {
            "text/plain": [
              "2"
            ]
          },
          "metadata": {},
          "execution_count": 5
        }
      ]
    },
    {
      "cell_type": "code",
      "source": [
        "x[2]"
      ],
      "metadata": {
        "colab": {
          "base_uri": "https://localhost:8080/"
        },
        "id": "prtugrmsZ9u_",
        "outputId": "1dc30bd8-cf51-479b-a859-ea289f3670e4"
      },
      "execution_count": 6,
      "outputs": [
        {
          "output_type": "execute_result",
          "data": {
            "text/plain": [
              "3"
            ]
          },
          "metadata": {},
          "execution_count": 6
        }
      ]
    },
    {
      "cell_type": "code",
      "source": [
        "x[3]"
      ],
      "metadata": {
        "colab": {
          "base_uri": "https://localhost:8080/"
        },
        "id": "IU5TgSojaA2n",
        "outputId": "d8b2ccb5-baba-4058-c9cd-3e5b60021d5c"
      },
      "execution_count": 7,
      "outputs": [
        {
          "output_type": "execute_result",
          "data": {
            "text/plain": [
              "4"
            ]
          },
          "metadata": {},
          "execution_count": 7
        }
      ]
    },
    {
      "cell_type": "code",
      "source": [
        "x[4]"
      ],
      "metadata": {
        "colab": {
          "base_uri": "https://localhost:8080/"
        },
        "id": "hm5q0dJ3aOxv",
        "outputId": "d6a5063d-25d7-4bf0-e56f-a55781adff41"
      },
      "execution_count": 8,
      "outputs": [
        {
          "output_type": "execute_result",
          "data": {
            "text/plain": [
              "5"
            ]
          },
          "metadata": {},
          "execution_count": 8
        }
      ]
    },
    {
      "cell_type": "code",
      "source": [
        "x=[10,20,30,40]\n",
        "y=[35,46,22,96]"
      ],
      "metadata": {
        "id": "6pDG82EoaUAP"
      },
      "execution_count": 10,
      "outputs": []
    },
    {
      "cell_type": "code",
      "source": [
        "(x[0]*y[0])+(x[1]*y[1])+(x[2]*y[2])+(x[3]*y[3]) "
      ],
      "metadata": {
        "colab": {
          "base_uri": "https://localhost:8080/"
        },
        "id": "3uI4FHJbbN1Z",
        "outputId": "bdab5173-e2f3-4eeb-df31-cf18b0af9a9c"
      },
      "execution_count": 12,
      "outputs": [
        {
          "output_type": "execute_result",
          "data": {
            "text/plain": [
              "5770"
            ]
          },
          "metadata": {},
          "execution_count": 12
        }
      ]
    },
    {
      "cell_type": "markdown",
      "source": [],
      "metadata": {
        "id": "FzyeFriseEgt"
      }
    },
    {
      "cell_type": "code",
      "source": [
        "x=[\"kerala\",\"tamilnadu\"]\n",
        "y=[\"chennai\",\"trivandrum\"]"
      ],
      "metadata": {
        "id": "3MdK5FXMb0v_"
      },
      "execution_count": 13,
      "outputs": []
    },
    {
      "cell_type": "code",
      "source": [
        "print(x[0]+\"-\"+y[1])\n",
        "print(x[1]+\"-\"+y[0])"
      ],
      "metadata": {
        "colab": {
          "base_uri": "https://localhost:8080/"
        },
        "id": "1bZCDdwgdzq-",
        "outputId": "ad6cdae4-0a33-4b05-a3a8-20e5c5a1c5b9"
      },
      "execution_count": 14,
      "outputs": [
        {
          "output_type": "stream",
          "name": "stdout",
          "text": [
            "kerala-trivandrum\n",
            "tamilnadu-chennai\n"
          ]
        }
      ]
    },
    {
      "cell_type": "code",
      "source": [
        "x=[10,25,26,36,39,55]"
      ],
      "metadata": {
        "id": "pRSVPOBeedT_"
      },
      "execution_count": 15,
      "outputs": []
    },
    {
      "cell_type": "code",
      "source": [
        "x[-1]"
      ],
      "metadata": {
        "colab": {
          "base_uri": "https://localhost:8080/"
        },
        "id": "8qFkbODpgHKb",
        "outputId": "81a7ce7b-41b3-4574-aca0-36a52ae9d255"
      },
      "execution_count": 16,
      "outputs": [
        {
          "output_type": "execute_result",
          "data": {
            "text/plain": [
              "55"
            ]
          },
          "metadata": {},
          "execution_count": 16
        }
      ]
    },
    {
      "cell_type": "code",
      "source": [
        "x[-2]"
      ],
      "metadata": {
        "colab": {
          "base_uri": "https://localhost:8080/"
        },
        "id": "M4-25AuvgJoq",
        "outputId": "79e6fdb7-38a8-4568-f56d-b2a5889cafbc"
      },
      "execution_count": 17,
      "outputs": [
        {
          "output_type": "execute_result",
          "data": {
            "text/plain": [
              "39"
            ]
          },
          "metadata": {},
          "execution_count": 17
        }
      ]
    },
    {
      "cell_type": "code",
      "source": [
        "x[-3]"
      ],
      "metadata": {
        "colab": {
          "base_uri": "https://localhost:8080/"
        },
        "id": "_FtLDHKKgMTD",
        "outputId": "9f91badf-00bb-4d4f-8e57-587e184aa703"
      },
      "execution_count": 18,
      "outputs": [
        {
          "output_type": "execute_result",
          "data": {
            "text/plain": [
              "36"
            ]
          },
          "metadata": {},
          "execution_count": 18
        }
      ]
    },
    {
      "cell_type": "code",
      "source": [
        "x[-4]"
      ],
      "metadata": {
        "colab": {
          "base_uri": "https://localhost:8080/"
        },
        "id": "eojJP_qMgPSC",
        "outputId": "c01bc279-f66e-45d2-e2e5-64a65c9dea91"
      },
      "execution_count": 19,
      "outputs": [
        {
          "output_type": "execute_result",
          "data": {
            "text/plain": [
              "26"
            ]
          },
          "metadata": {},
          "execution_count": 19
        }
      ]
    },
    {
      "cell_type": "code",
      "source": [
        "x[-6]"
      ],
      "metadata": {
        "colab": {
          "base_uri": "https://localhost:8080/"
        },
        "id": "tHLB90tmgRXb",
        "outputId": "70e6c0a9-5096-4204-dbc4-4faf9f6e38d8"
      },
      "execution_count": 20,
      "outputs": [
        {
          "output_type": "execute_result",
          "data": {
            "text/plain": [
              "10"
            ]
          },
          "metadata": {},
          "execution_count": 20
        }
      ]
    },
    {
      "cell_type": "code",
      "source": [
        "x[-5]"
      ],
      "metadata": {
        "colab": {
          "base_uri": "https://localhost:8080/"
        },
        "id": "NGKZZTZggcbX",
        "outputId": "aaffc5b7-4fcf-4482-97f1-37c7e216a67c"
      },
      "execution_count": 22,
      "outputs": [
        {
          "output_type": "execute_result",
          "data": {
            "text/plain": [
              "25"
            ]
          },
          "metadata": {},
          "execution_count": 22
        }
      ]
    },
    {
      "cell_type": "code",
      "source": [
        "x[-3]*x[-5]"
      ],
      "metadata": {
        "colab": {
          "base_uri": "https://localhost:8080/"
        },
        "id": "H5-RugylgeAr",
        "outputId": "0147758b-c58d-4c91-ad33-ebf1198efae9"
      },
      "execution_count": 24,
      "outputs": [
        {
          "output_type": "execute_result",
          "data": {
            "text/plain": [
              "900"
            ]
          },
          "metadata": {},
          "execution_count": 24
        }
      ]
    },
    {
      "cell_type": "code",
      "source": [
        "if x[3]==10:\n",
        "  print(\"x is 10\")\n",
        "else:\n",
        "  print(\"x is not 10\")"
      ],
      "metadata": {
        "colab": {
          "base_uri": "https://localhost:8080/"
        },
        "id": "jQAkykD9hJlz",
        "outputId": "b88c67e7-7868-447b-cf10-ce09debe4b72"
      },
      "execution_count": 25,
      "outputs": [
        {
          "output_type": "stream",
          "name": "stdout",
          "text": [
            "x is not 10\n"
          ]
        }
      ]
    },
    {
      "cell_type": "code",
      "source": [
        "if x[5]==55:\n",
        "  print(\"x is 55\")\n",
        "else:\n",
        "  print(\"x is not 55\")"
      ],
      "metadata": {
        "colab": {
          "base_uri": "https://localhost:8080/"
        },
        "id": "cplMmFHkirex",
        "outputId": "6ea86e97-aefa-4154-bacb-dfb018ea593a"
      },
      "execution_count": 26,
      "outputs": [
        {
          "output_type": "stream",
          "name": "stdout",
          "text": [
            "x is 55\n"
          ]
        }
      ]
    },
    {
      "cell_type": "code",
      "source": [
        "x=\"kavya venkat\"\n",
        "x[11]"
      ],
      "metadata": {
        "colab": {
          "base_uri": "https://localhost:8080/",
          "height": 35
        },
        "id": "_GF1aKG7jbSp",
        "outputId": "5b3f62e9-846f-4c9d-e806-7533d2f51ff9"
      },
      "execution_count": 28,
      "outputs": [
        {
          "output_type": "execute_result",
          "data": {
            "text/plain": [
              "'t'"
            ],
            "application/vnd.google.colaboratory.intrinsic+json": {
              "type": "string"
            }
          },
          "metadata": {},
          "execution_count": 28
        }
      ]
    },
    {
      "cell_type": "code",
      "source": [
        "x[0]"
      ],
      "metadata": {
        "colab": {
          "base_uri": "https://localhost:8080/",
          "height": 35
        },
        "id": "g-RC4_XDkPu-",
        "outputId": "80e79e2a-9d99-49ec-d6c5-2e1d2d6adcd4"
      },
      "execution_count": 29,
      "outputs": [
        {
          "output_type": "execute_result",
          "data": {
            "text/plain": [
              "'k'"
            ],
            "application/vnd.google.colaboratory.intrinsic+json": {
              "type": "string"
            }
          },
          "metadata": {},
          "execution_count": 29
        }
      ]
    },
    {
      "cell_type": "code",
      "source": [
        "if x[0]==x[11]:\n",
        "  print(\"it is the same\")\n",
        "else:\n",
        "  print(\"it is not the same\")"
      ],
      "metadata": {
        "colab": {
          "base_uri": "https://localhost:8080/"
        },
        "id": "7wDO38NVkW1e",
        "outputId": "05a4662e-e653-4af3-82c2-3b9763cde8da"
      },
      "execution_count": 31,
      "outputs": [
        {
          "output_type": "stream",
          "name": "stdout",
          "text": [
            "it is not the same\n"
          ]
        }
      ]
    },
    {
      "cell_type": "code",
      "source": [
        "for a in x:\n",
        "  print(a)"
      ],
      "metadata": {
        "colab": {
          "base_uri": "https://localhost:8080/"
        },
        "id": "ziO3g4r0kvpJ",
        "outputId": "24ef7e95-b097-45b6-a63b-f5d89a47fed0"
      },
      "execution_count": 32,
      "outputs": [
        {
          "output_type": "stream",
          "name": "stdout",
          "text": [
            "k\n",
            "a\n",
            "v\n",
            "y\n",
            "a\n",
            " \n",
            "v\n",
            "e\n",
            "n\n",
            "k\n",
            "a\n",
            "t\n"
          ]
        }
      ]
    },
    {
      "cell_type": "code",
      "source": [
        "x==\"kavya venkat\"\n",
        "if a==\"i\": \n",
        "   print(\"it contain i\")\n",
        "else:\n",
        "  print(\"it does not contain i\")\n",
        " \n",
        "\n",
        "  \n",
        " "
      ],
      "metadata": {
        "colab": {
          "base_uri": "https://localhost:8080/"
        },
        "id": "69gS4DPBmyPS",
        "outputId": "f37dea91-2e16-4ca8-c26e-9631706d58c1"
      },
      "execution_count": 45,
      "outputs": [
        {
          "output_type": "stream",
          "name": "stdout",
          "text": [
            "it does not contain i\n"
          ]
        }
      ]
    },
    {
      "cell_type": "code",
      "source": [
        "x=[10,25,26,36,39,55]"
      ],
      "metadata": {
        "id": "2wJhOkW9rY-i"
      },
      "execution_count": 46,
      "outputs": []
    },
    {
      "cell_type": "code",
      "source": [
        "k=0\n",
        "for a in x:\n",
        "  print(\"k=\",k)\n",
        "  print(\"a=\",a)\n",
        "  k=k+a\n",
        "  print(\"k+a\",k)\n",
        "  "
      ],
      "metadata": {
        "colab": {
          "base_uri": "https://localhost:8080/"
        },
        "id": "HAOI6Dgvshyg",
        "outputId": "33443afb-f396-4f36-b549-fff1387d8ae8"
      },
      "execution_count": 51,
      "outputs": [
        {
          "output_type": "stream",
          "name": "stdout",
          "text": [
            "k= 0\n",
            "a= 10\n",
            "k+a 10\n",
            "k= 10\n",
            "a= 25\n",
            "k+a 35\n",
            "k= 35\n",
            "a= 26\n",
            "k+a 61\n",
            "k= 61\n",
            "a= 36\n",
            "k+a 97\n",
            "k= 97\n",
            "a= 39\n",
            "k+a 136\n",
            "k= 136\n",
            "a= 55\n",
            "k+a 191\n"
          ]
        }
      ]
    },
    {
      "cell_type": "code",
      "source": [],
      "metadata": {
        "id": "z-y8JNMCtp8s"
      },
      "execution_count": null,
      "outputs": []
    }
  ]
}