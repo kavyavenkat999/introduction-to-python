{
  "nbformat": 4,
  "nbformat_minor": 0,
  "metadata": {
    "colab": {
      "provenance": []
    },
    "kernelspec": {
      "name": "python3",
      "display_name": "Python 3"
    },
    "language_info": {
      "name": "python"
    }
  },
  "cells": [
    {
      "cell_type": "code",
      "execution_count": 5,
      "metadata": {
        "colab": {
          "base_uri": "https://localhost:8080/"
        },
        "id": "sNuWKbgtqPAd",
        "outputId": "c5a0e877-67a4-4a18-8726-be9a69375f94"
      },
      "outputs": [
        {
          "output_type": "stream",
          "name": "stdout",
          "text": [
            "enter the number to display the corresponding multiplier5\n",
            "1 * 5 5\n",
            "2 * 5 10\n",
            "3 * 5 15\n",
            "4 * 5 20\n",
            "5 * 5 25\n",
            "6 * 5 30\n",
            "7 * 5 35\n",
            "8 * 5 40\n",
            "9 * 5 45\n",
            "10 * 5 50\n"
          ]
        }
      ],
      "source": [
        "num= int(input(\"enter the number to display the corresponding multiplier\"))\n",
        "for i in range(1,11):\n",
        "  print( i,\"*\",num,num*i)"
      ]
    },
    {
      "cell_type": "code",
      "source": [
        "num=int(input())\n",
        "i=1\n",
        "while(i<=10):\n",
        "  print(i*num)\n",
        "  i=i+1"
      ],
      "metadata": {
        "colab": {
          "base_uri": "https://localhost:8080/"
        },
        "id": "lwy4bUokyLm1",
        "outputId": "db2b93c7-ba50-4d09-8ea3-2b754b8e1aa6"
      },
      "execution_count": 9,
      "outputs": [
        {
          "output_type": "stream",
          "name": "stdout",
          "text": [
            "10\n",
            "10\n",
            "20\n",
            "30\n",
            "40\n",
            "50\n",
            "60\n",
            "70\n",
            "80\n",
            "90\n",
            "100\n"
          ]
        }
      ]
    },
    {
      "cell_type": "code",
      "source": [
        "n=(input(\"enter number\"))\n",
        "len(n)"
      ],
      "metadata": {
        "colab": {
          "base_uri": "https://localhost:8080/"
        },
        "id": "OItzIH_fxFKN",
        "outputId": "f715c762-301e-4652-811e-351dbca70251"
      },
      "execution_count": 11,
      "outputs": [
        {
          "name": "stdout",
          "output_type": "stream",
          "text": [
            "enter number234\n"
          ]
        },
        {
          "output_type": "execute_result",
          "data": {
            "text/plain": [
              "3"
            ]
          },
          "metadata": {},
          "execution_count": 11
        }
      ]
    },
    {
      "cell_type": "code",
      "source": [
        "n=input('enter number')\n",
        "i=0\n",
        "for j in n:\n",
        "  i=i+1\n",
        "print(i)"
      ],
      "metadata": {
        "colab": {
          "base_uri": "https://localhost:8080/"
        },
        "id": "KVrY6SvGz0By",
        "outputId": "414553a1-7933-475c-c5f1-520b248d7afe"
      },
      "execution_count": 20,
      "outputs": [
        {
          "output_type": "stream",
          "name": "stdout",
          "text": [
            "enter number568\n",
            "3\n"
          ]
        }
      ]
    },
    {
      "cell_type": "code",
      "source": [
        "x=input(\"enter a string\")\n",
        "a= \"\"\n",
        "for i in x:  \n",
        "  a=i+a\n",
        "print(a)\n",
        "if x==a: \n",
        "  print('true')\n",
        "else:\n",
        " print(\"false\")"
      ],
      "metadata": {
        "colab": {
          "base_uri": "https://localhost:8080/"
        },
        "id": "vTqrcM_g08sv",
        "outputId": "eb42fe9f-8627-40dc-980f-af579f031282"
      },
      "execution_count": 21,
      "outputs": [
        {
          "output_type": "stream",
          "name": "stdout",
          "text": [
            "enter a stringnoon\n",
            "noon\n",
            "true\n"
          ]
        }
      ]
    },
    {
      "cell_type": "code",
      "source": [],
      "metadata": {
        "id": "_f3Y5oHM70D7"
      },
      "execution_count": null,
      "outputs": []
    }
  ]
}