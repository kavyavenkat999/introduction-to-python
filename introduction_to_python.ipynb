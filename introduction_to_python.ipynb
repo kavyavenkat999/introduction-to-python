{
  "nbformat": 4,
  "nbformat_minor": 0,
  "metadata": {
    "colab": {
      "provenance": [],
      "collapsed_sections": []
    },
    "kernelspec": {
      "name": "python3",
      "display_name": "Python 3"
    },
    "language_info": {
      "name": "python"
    }
  },
  "cells": [
    {
      "cell_type": "code",
      "execution_count": 1,
      "metadata": {
        "colab": {
          "base_uri": "https://localhost:8080/"
        },
        "id": "N0q4xUxoeU9m",
        "outputId": "51ac070d-c57b-4e51-a2b0-c1d4cf63565f"
      },
      "outputs": [
        {
          "name": "stdout",
          "output_type": "stream",
          "text": [
            " 50\n"
          ]
        }
      ],
      "source": [
        "mark=int(input())"
      ]
    },
    {
      "cell_type": "code",
      "source": [
        "if mark >50:\n",
        "  print(\"you are passed\")\n",
        "if mark <50:\n",
        "  print(\"you are failed\")"
      ],
      "metadata": {
        "id": "2Hp6q0q6hRau"
      },
      "execution_count": 2,
      "outputs": []
    },
    {
      "cell_type": "code",
      "source": [
        "mark=int(input())"
      ],
      "metadata": {
        "colab": {
          "base_uri": "https://localhost:8080/"
        },
        "id": "ME0cCSRtiEBq",
        "outputId": "e1f70df6-a35e-4c08-df34-327a6615a2d8"
      },
      "execution_count": 4,
      "outputs": [
        {
          "name": "stdout",
          "output_type": "stream",
          "text": [
            "60\n"
          ]
        }
      ]
    },
    {
      "cell_type": "code",
      "source": [
        "mark=int(input())\n",
        "\n"
      ],
      "metadata": {
        "id": "qeS3xBCsiVsk"
      },
      "execution_count": 4,
      "outputs": []
    },
    {
      "cell_type": "code",
      "source": [
        "mark=int(input())\n",
        "if mark >50:\n",
        "  print(\"you are passed\")\n",
        "if mark <50:\n",
        "  print(\"you are failed\")"
      ],
      "metadata": {
        "colab": {
          "base_uri": "https://localhost:8080/"
        },
        "id": "SuIcB2g7if_h",
        "outputId": "fbc70af9-f177-4396-c644-860747fc1294"
      },
      "execution_count": 5,
      "outputs": [
        {
          "output_type": "stream",
          "name": "stdout",
          "text": [
            "90\n",
            "you are passed\n"
          ]
        }
      ]
    },
    {
      "cell_type": "code",
      "source": [],
      "metadata": {
        "id": "W0bJJsNUioCa"
      },
      "execution_count": null,
      "outputs": []
    },
    {
      "cell_type": "code",
      "source": [
        "mark=int(input())\n",
        "if mark >50:\n",
        "  print(\"you are passed\")\n",
        "if mark <50:\n",
        "  print(\"you are failed\")\n",
        "if mark==50:\n",
        "  print(\"just passed\")"
      ],
      "metadata": {
        "colab": {
          "base_uri": "https://localhost:8080/"
        },
        "id": "tPRAOTITjOpw",
        "outputId": "27065ced-0064-472e-f32e-58f1fdfdf415"
      },
      "execution_count": 6,
      "outputs": [
        {
          "output_type": "stream",
          "name": "stdout",
          "text": [
            "25\n",
            "you are failed\n"
          ]
        }
      ]
    },
    {
      "cell_type": "code",
      "source": [],
      "metadata": {
        "id": "fWhiDSG1jzSZ"
      },
      "execution_count": null,
      "outputs": []
    },
    {
      "cell_type": "code",
      "source": [
        "mark=int(input())\n",
        "if mark >50:\n",
        "  print(\"you are passed\")\n",
        "if mark <50:\n",
        "  print(\"you are failed\")\n",
        "if mark==50:\n",
        "  print(\"just passed\")"
      ],
      "metadata": {
        "colab": {
          "base_uri": "https://localhost:8080/"
        },
        "outputId": "27065ced-0064-472e-f32e-58f1fdfdf415",
        "id": "lz79KGDjj3Fg"
      },
      "execution_count": null,
      "outputs": [
        {
          "output_type": "stream",
          "name": "stdout",
          "text": [
            "25\n",
            "you are failed\n"
          ]
        }
      ]
    },
    {
      "cell_type": "code",
      "source": [
        "salary=int(input())\n",
        "if salary >= 250000:\n",
        "  print(\"you are taxable\")\n",
        "if salary <250000:\n",
        "  print(\"you are not taxable\")"
      ],
      "metadata": {
        "colab": {
          "base_uri": "https://localhost:8080/"
        },
        "id": "wwrEPNuJklee",
        "outputId": "4db96cb4-ac84-4324-a5b7-b17205baa605"
      },
      "execution_count": 7,
      "outputs": [
        {
          "output_type": "stream",
          "name": "stdout",
          "text": [
            "251000\n",
            "you are taxable\n"
          ]
        }
      ]
    },
    {
      "cell_type": "code",
      "source": [],
      "metadata": {
        "id": "MVjhasY4laxn"
      },
      "execution_count": null,
      "outputs": []
    },
    {
      "cell_type": "code",
      "source": [
        "salary=int(input())\n",
        "if salary >= 250000:\n",
        "  print(\"you are taxable\")\n",
        "if salary <250000:\n",
        "  print(\"you are not taxable\")"
      ],
      "metadata": {
        "colab": {
          "base_uri": "https://localhost:8080/"
        },
        "outputId": "4db96cb4-ac84-4324-a5b7-b17205baa605",
        "id": "BYEAan3gmAaY"
      },
      "execution_count": null,
      "outputs": [
        {
          "output_type": "stream",
          "name": "stdout",
          "text": [
            "251000\n",
            "you are taxable\n"
          ]
        }
      ]
    },
    {
      "cell_type": "code",
      "source": [],
      "metadata": {
        "id": "eXRcoC32mC9S"
      },
      "execution_count": null,
      "outputs": []
    },
    {
      "cell_type": "code",
      "source": [
        "salary=int(input())\n",
        "if salary >= 250000:\n",
        "  print(\"you are taxable\")\n",
        "if salary <250000:\n",
        "  print(\"you are not taxable\")"
      ],
      "metadata": {
        "colab": {
          "base_uri": "https://localhost:8080/"
        },
        "outputId": "4db96cb4-ac84-4324-a5b7-b17205baa605",
        "id": "Q9AzQ7LPmD1h"
      },
      "execution_count": null,
      "outputs": [
        {
          "output_type": "stream",
          "name": "stdout",
          "text": [
            "251000\n",
            "you are taxable\n"
          ]
        }
      ]
    },
    {
      "cell_type": "code",
      "source": [],
      "metadata": {
        "id": "PPDDGBZumEmi"
      },
      "execution_count": null,
      "outputs": []
    },
    {
      "cell_type": "code",
      "source": [
        "salary=int(input())\n",
        "if salary >= 250000:\n",
        "  print(\"you are taxable\")\n",
        "  print(salary*10/100)\n",
        "if salary <250000:\n",
        "  print(\"you are not taxable\")"
      ],
      "metadata": {
        "colab": {
          "base_uri": "https://localhost:8080/"
        },
        "outputId": "c1c0fd9d-7af7-4894-f754-20f46c91ce9b",
        "id": "7KGQ3qlHmHYC"
      },
      "execution_count": 9,
      "outputs": [
        {
          "output_type": "stream",
          "name": "stdout",
          "text": [
            "251000\n",
            "you are taxable\n",
            "25100.0\n"
          ]
        }
      ]
    },
    {
      "cell_type": "code",
      "source": [
        "salary=int(input())\n",
        "if salary>=250000:\n",
        "  print(\"you are taxable\")\n",
        "  print((salary-250000)*10/100)\n",
        "if salary <250000:\n",
        "  print(\"you are not taxable\")"
      ],
      "metadata": {
        "colab": {
          "base_uri": "https://localhost:8080/"
        },
        "id": "WxgWrqwAmJ85",
        "outputId": "19ce6880-df95-456f-c5eb-2ddf025c65c5"
      },
      "execution_count": 10,
      "outputs": [
        {
          "output_type": "stream",
          "name": "stdout",
          "text": [
            "300000\n",
            "you are taxable\n",
            "5000.0\n"
          ]
        }
      ]
    },
    {
      "cell_type": "code",
      "source": [
        "salary=int(input())\n",
        "if salary <500000:\n",
        "  print(\"not taxable\")\n",
        "if 500000<salary <1000000:\n",
        "  print(\"tax=\",salary*10/100)\n",
        "if 1000000<salary <2000000:\n",
        "  print(\"tax=\", salary*20/100)"
      ],
      "metadata": {
        "id": "AGqdUuy7w6N-"
      },
      "execution_count": null,
      "outputs": []
    },
    {
      "cell_type": "code",
      "source": [],
      "metadata": {
        "id": "CdDuA4w8yiN1"
      },
      "execution_count": null,
      "outputs": []
    }
  ]
}