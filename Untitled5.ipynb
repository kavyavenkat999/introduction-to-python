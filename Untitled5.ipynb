{
  "nbformat": 4,
  "nbformat_minor": 0,
  "metadata": {
    "colab": {
      "provenance": []
    },
    "kernelspec": {
      "name": "python3",
      "display_name": "Python 3"
    },
    "language_info": {
      "name": "python"
    }
  },
  "cells": [
    {
      "cell_type": "code",
      "execution_count": 2,
      "metadata": {
        "colab": {
          "base_uri": "https://localhost:8080/"
        },
        "id": "4s9D21EwH5mh",
        "outputId": "e4a08b63-f69b-4ff5-82f8-db98238ef8f9"
      },
      "outputs": [
        {
          "output_type": "stream",
          "name": "stdout",
          "text": [
            "{'name': 'kavya', 'number': 12345, 'year': 1234}\n"
          ]
        }
      ],
      "source": [
        "student={\"name\":\"kavya\",\"number\":12345}\n",
        "student[\"year\"]=1234\n",
        "print(student)"
      ]
    },
    {
      "cell_type": "code",
      "source": [
        "def product(x,y,z):\n",
        "  return(x*y*z)\n",
        "product(5,6,7)\n"
      ],
      "metadata": {
        "colab": {
          "base_uri": "https://localhost:8080/"
        },
        "id": "x4h4jx2zMATo",
        "outputId": "3d09f96f-d98d-4061-afaf-ba9ae1bf8682"
      },
      "execution_count": 9,
      "outputs": [
        {
          "output_type": "execute_result",
          "data": {
            "text/plain": [
              "210"
            ]
          },
          "metadata": {},
          "execution_count": 9
        }
      ]
    },
    {
      "cell_type": "code",
      "source": [],
      "metadata": {
        "id": "h_cqSKNdMj4X"
      },
      "execution_count": null,
      "outputs": []
    }
  ]
}