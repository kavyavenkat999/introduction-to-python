{
  "nbformat": 4,
  "nbformat_minor": 0,
  "metadata": {
    "colab": {
      "provenance": []
    },
    "kernelspec": {
      "name": "python3",
      "display_name": "Python 3"
    },
    "language_info": {
      "name": "python"
    }
  },
  "cells": [
    {
      "cell_type": "code",
      "execution_count": 2,
      "metadata": {
        "colab": {
          "base_uri": "https://localhost:8080/"
        },
        "id": "E2iaB9QvoRcF",
        "outputId": "803d8252-32fd-44dc-85c1-a758442cfd04"
      },
      "outputs": [
        {
          "output_type": "stream",
          "name": "stdout",
          "text": [
            "enter travel sourcetrain\n",
            "enter travel destinationdelhi\n",
            "enter number of passengers5\n",
            "travel source train\n",
            "travel destination delhi\n",
            "number of passengers 5\n"
          ]
        }
      ],
      "source": [
        "travel_source= input(\"enter travel source\")\n",
        "travel_destination=input(\"enter travel destination\")\n",
        "passenger_number=int(input(\"enter number of passengers\"))\n",
        "print( \"travel source\",travel_source)\n",
        "print(\"travel destination\",travel_destination)\n",
        "print(\"number of passengers\",passenger_number)"
      ]
    },
    {
      "cell_type": "code",
      "source": [
        "tf=int(input(\"enter total fare of passengers\"))\n",
        "n=int(input(\"enter number of passengers\"))\n",
        "tfpp= tf/n\n",
        "print(\"ticket fare per person=\",tfpp)"
      ],
      "metadata": {
        "colab": {
          "base_uri": "https://localhost:8080/"
        },
        "id": "M46McVDhqQu3",
        "outputId": "062eb786-7d21-484d-93ad-8c6f23df461d"
      },
      "execution_count": 3,
      "outputs": [
        {
          "output_type": "stream",
          "name": "stdout",
          "text": [
            "enter total fare of passengers100\n",
            "enter number of passengers10\n",
            "ticket fare per person= 10.0\n"
          ]
        }
      ]
    },
    {
      "cell_type": "code",
      "source": [
        "name=input(\"enter name of passenger\")\n",
        "tf=int(input(\"enter total fare\"))\n",
        "print(name,tf)"
      ],
      "metadata": {
        "colab": {
          "base_uri": "https://localhost:8080/"
        },
        "id": "T_jPr7EVrdPH",
        "outputId": "c3c3b14b-b990-4f8b-cc89-d19d53be5f47"
      },
      "execution_count": 5,
      "outputs": [
        {
          "output_type": "stream",
          "name": "stdout",
          "text": [
            "enter name of passengerkavya\n",
            "enter total fare1000\n",
            "kavya 1000\n"
          ]
        }
      ]
    },
    {
      "cell_type": "code",
      "source": [
        "tf=int(input(\"enter total ticket fare\"))\n",
        "if tf>10000:\n",
        "  print(\"eligible for discount\")\n",
        "else:\n",
        "  print(\"not applicable\")"
      ],
      "metadata": {
        "colab": {
          "base_uri": "https://localhost:8080/"
        },
        "id": "5PbbeGH8saaK",
        "outputId": "88887cd2-9c68-4d29-c0e2-a56e6b154783"
      },
      "execution_count": 6,
      "outputs": [
        {
          "output_type": "stream",
          "name": "stdout",
          "text": [
            "enter total ticket fare110000\n",
            "eligible for discount\n"
          ]
        }
      ]
    },
    {
      "cell_type": "code",
      "source": [
        "tf=int(input(\"entertotal fare\"))\n",
        "if tf>15000:\n",
        "  print(\"eligibe for 20% discount\")\n",
        "else:\n",
        "  print(\"eligible for 10% discount\")"
      ],
      "metadata": {
        "colab": {
          "base_uri": "https://localhost:8080/"
        },
        "id": "kCuI1IUitUO_",
        "outputId": "8fdfc75d-9e24-4e8c-e070-0317418ed6b3"
      },
      "execution_count": 7,
      "outputs": [
        {
          "output_type": "stream",
          "name": "stdout",
          "text": [
            "entertotal fare10000\n",
            "eligible for 10% discount\n"
          ]
        }
      ]
    },
    {
      "cell_type": "code",
      "source": [
        "tf=int(input(\"enter total fare\"))\n",
        "if tf > 15000:\n",
        "  print(\"discounted fare\",tf-(tf*20/100) )\n",
        "if tf>10000 and tf<15000:\n",
        "  print(\"discounted fare\",tf-(tf*10/100))\n",
        "if tf<10000:\n",
        "  print(\"discounted fare\",tf-(tf*5/100))"
      ],
      "metadata": {
        "colab": {
          "base_uri": "https://localhost:8080/"
        },
        "id": "UGnDIaH4uNS4",
        "outputId": "79a5befb-803d-42ee-db49-ad32bd3f1efc"
      },
      "execution_count": 13,
      "outputs": [
        {
          "output_type": "stream",
          "name": "stdout",
          "text": [
            "enter total fare17000\n",
            "discounted fare 13600.0\n"
          ]
        }
      ]
    },
    {
      "cell_type": "code",
      "source": [
        "n=int(input(\"enter number\"))\n",
        "if n>1:\n",
        "  print(\"positive\")\n",
        "elif n<1:\n",
        "  print(\"negative\")\n",
        "else:\n",
        "  print(\"0\")\n",
        "  \n"
      ],
      "metadata": {
        "colab": {
          "base_uri": "https://localhost:8080/"
        },
        "id": "xE4gCHZdvnHO",
        "outputId": "6fb9ef66-3710-4db2-cff3-abb71e31acbb"
      },
      "execution_count": 17,
      "outputs": [
        {
          "output_type": "stream",
          "name": "stdout",
          "text": [
            "enter number5\n",
            "positive\n"
          ]
        }
      ]
    },
    {
      "cell_type": "code",
      "source": [
        "a=int(input(\"enter age\"))\n",
        "if a> 18:\n",
        "  print(\"adult\")\n",
        "elif a>13and a<19:\n",
        "  print(\"teenager\")\n",
        "elif a>6 and a<12:\n",
        "  print(\"kid\")\n",
        "elif a>2 and a<5:\n",
        "  print(\"toddler\")\n",
        "else:\n",
        "  print(\"infant\")"
      ],
      "metadata": {
        "colab": {
          "base_uri": "https://localhost:8080/"
        },
        "id": "YcfHUeJ7x5L1",
        "outputId": "dd7b07ac-da65-4007-f58c-5f640e99c50c"
      },
      "execution_count": 18,
      "outputs": [
        {
          "output_type": "stream",
          "name": "stdout",
          "text": [
            "enter age18\n",
            "teenager\n"
          ]
        }
      ]
    },
    {
      "cell_type": "code",
      "source": [
        "i=input(\"enter initials\")\n",
        "if i in (\"a,e,i,o,u\"):\n",
        "   print(\"its vowel\")\n",
        "else:\n",
        "  print(\"not a vowel\")\n",
        "\n",
        " \n"
      ],
      "metadata": {
        "colab": {
          "base_uri": "https://localhost:8080/"
        },
        "id": "g9NhWda50h8K",
        "outputId": "df2cf34d-1e8f-4d80-a234-d6f78f01dfe7"
      },
      "execution_count": 24,
      "outputs": [
        {
          "output_type": "stream",
          "name": "stdout",
          "text": [
            "enter initialst\n",
            "not a vowel\n"
          ]
        }
      ]
    },
    {
      "cell_type": "code",
      "source": [
        "name=input(\"enter name\")\n",
        "for i in name:\n",
        "  print(i)"
      ],
      "metadata": {
        "colab": {
          "base_uri": "https://localhost:8080/"
        },
        "id": "azHqTHO93C7n",
        "outputId": "d8e7edf3-476d-4125-d2fe-10cb8e35d177"
      },
      "execution_count": 26,
      "outputs": [
        {
          "output_type": "stream",
          "name": "stdout",
          "text": [
            "enter namekavya\n",
            "k\n",
            "a\n",
            "v\n",
            "y\n",
            "a\n"
          ]
        }
      ]
    },
    {
      "cell_type": "code",
      "source": [
        "for i in range(45,89,2):\n",
        "  print(i)"
      ],
      "metadata": {
        "colab": {
          "base_uri": "https://localhost:8080/"
        },
        "id": "lhELWjmN5Z9Z",
        "outputId": "ca7a59b1-6363-4605-c8c8-747481a8640f"
      },
      "execution_count": 31,
      "outputs": [
        {
          "output_type": "stream",
          "name": "stdout",
          "text": [
            "45\n",
            "47\n",
            "49\n",
            "51\n",
            "53\n",
            "55\n",
            "57\n",
            "59\n",
            "61\n",
            "63\n",
            "65\n",
            "67\n",
            "69\n",
            "71\n",
            "73\n",
            "75\n",
            "77\n",
            "79\n",
            "81\n",
            "83\n",
            "85\n",
            "87\n"
          ]
        }
      ]
    },
    {
      "cell_type": "code",
      "source": [
        "for i in range (1,11):\n",
        "  print(i,       \"     \", i+(i+1))"
      ],
      "metadata": {
        "colab": {
          "base_uri": "https://localhost:8080/"
        },
        "id": "gZDbXifu6E6h",
        "outputId": "3db424db-232e-4090-aab4-b3acfc3df867"
      },
      "execution_count": 33,
      "outputs": [
        {
          "output_type": "stream",
          "name": "stdout",
          "text": [
            "1       3\n",
            "2       5\n",
            "3       7\n",
            "4       9\n",
            "5       11\n",
            "6       13\n",
            "7       15\n",
            "8       17\n",
            "9       19\n",
            "10       21\n"
          ]
        }
      ]
    }
  ]
}